{
 "cells": [
  {
   "cell_type": "code",
   "execution_count": 52,
   "metadata": {},
   "outputs": [
    {
     "name": "stdout",
     "output_type": "stream",
     "text": [
      "17 Sep.12:31 p.m. 17 Sep.7:15 a.m.\n"
     ]
    }
   ],
   "source": [
    "import json\n",
    "import utils\n",
    "from bs4 import BeautifulSoup\n",
    "from pathlib import Path\n",
    "url_index_bases = \"https://www.bing.com/packagetrackingv2?packNum={0}&carrier={1}\"\n",
    "\n",
    "def selectCarrier(trackingNumber):\n",
    "    if (trackingNumber[0:1] == \"1Z\"):\n",
    "        track_url = url_index_bases.format(trackingNumber,\"UPS\")\n",
    "        StartTrack(track_url)\n",
    "    else: \n",
    "        track_url = url_index_bases.format(trackingNumber,\"Fedex\")\n",
    "        StartTrack(track_url)\n",
    "\n",
    "def GetDeliveryDateTime(soup):\n",
    "    dateResult = soup.select(\"div > div > div:nth-child(3) > table > tr:nth-child(2) > td:nth-child(1)\")\n",
    "    dateSoup = BeautifulSoup(str(dateResult[0]), features=\"html.parser\")\n",
    "    date = dateSoup.contents[0].contents[0]\n",
    "    TimeResult = soup.select(\"div > div > div:nth-child(3) > table > tr:nth-child(2) > td:nth-child(2)\")\n",
    "    timeSoup = BeautifulSoup(str(TimeResult[0]), features=\"html.parser\")\n",
    "    time = timeSoup.contents[0].contents[0]\n",
    "    return date+time\n",
    "\n",
    "def GetPickupDateTime(soup):\n",
    "    date = soup.contents[1].contents[0].contents[0]\n",
    "    time = soup.contents[1].contents[1].contents[0]\n",
    "    return date+time\n",
    "\n",
    "def StartTrack(track_url):\n",
    "    response = utils.get_request(track_url)\n",
    "    html = response.text\n",
    "    soup = BeautifulSoup(html, features=\"html.parser\")\n",
    "    result = soup.select(\"div > div > div:nth-child(3) > table > tr:nth-child(2) > td:nth-child(4)\")\n",
    "    newSoup = BeautifulSoup(str(result[0]), features=\"html.parser\")\n",
    "    status = newSoup.contents[0].contents[0]\n",
    "    if (status == \"Delivered\"):\n",
    "        DeliverTime = GetDeliveryDateTime(soup)\n",
    "    else: DeliverTime = \"\"\n",
    "    table=soup.find_all(\"tr\", class_=\"toggledItem\")\n",
    "    pickUpsoup = BeautifulSoup(str(table[-1:]), features=\"html.parser\")\n",
    "    PickUpTime = GetPickupDateTime(pickUpsoup)\n",
    "    print(DeliverTime, PickUpTime)\n",
    "    return (DeliverTime, PickUpTime)\n",
    "\n",
    "selectCarrier(\"283375959163\")\n",
    "\n"
   ]
  }
 ],
 "metadata": {
  "interpreter": {
   "hash": "aee8b7b246df8f9039afb4144a1f6fd8d2ca17a180786b69acc140d282b71a49"
  },
  "kernelspec": {
   "display_name": "Python 3.7.9 64-bit",
   "language": "python",
   "name": "python3"
  },
  "language_info": {
   "codemirror_mode": {
    "name": "ipython",
    "version": 3
   },
   "file_extension": ".py",
   "mimetype": "text/x-python",
   "name": "python",
   "nbconvert_exporter": "python",
   "pygments_lexer": "ipython3",
   "version": "3.7.9"
  },
  "orig_nbformat": 4
 },
 "nbformat": 4,
 "nbformat_minor": 2
}
